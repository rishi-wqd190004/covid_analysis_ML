{
 "cells": [
  {
   "cell_type": "code",
   "execution_count": 1,
   "metadata": {},
   "outputs": [],
   "source": [
    "import pandas as pd\n",
    "from pandasgui import show\n",
    "import numpy as np\n",
    "import matplotlib.pyplot as plt\n"
   ]
  },
  {
   "cell_type": "markdown",
   "metadata": {},
   "source": [
    "# Preprocessing part of the problem statement"
   ]
  },
  {
   "cell_type": "code",
   "execution_count": 2,
   "metadata": {},
   "outputs": [],
   "source": [
    "# get the data at global level\n",
    "confirmed_cases_raw = pd.read_csv('https://raw.githubusercontent.com/CSSEGISandData/COVID-19/master/csse_covid_19_data/csse_covid_19_time_series/time_series_covid19_confirmed_global.csv')\n",
    "death_raw = pd.read_csv('https://raw.githubusercontent.com/CSSEGISandData/COVID-19/master/csse_covid_19_data/csse_covid_19_time_series/time_series_covid19_deaths_global.csv')\n",
    "recover_raw = pd.read_csv('https://raw.githubusercontent.com/CSSEGISandData/COVID-19/master/csse_covid_19_data/csse_covid_19_time_series/time_series_covid19_recovered_global.csv')"
   ]
  },
  {
   "cell_type": "code",
   "execution_count": 3,
   "metadata": {},
   "outputs": [],
   "source": [
    "#show(confirmed_cases_raw)"
   ]
  },
  {
   "cell_type": "markdown",
   "metadata": {},
   "source": [
    "![title](plots/newplot_confirmed_cases.png)"
   ]
  },
  {
   "cell_type": "code",
   "execution_count": 4,
   "metadata": {},
   "outputs": [],
   "source": [
    "#show(death_raw)"
   ]
  },
  {
   "cell_type": "markdown",
   "metadata": {},
   "source": [
    "![title](plots/newplot_death.png)"
   ]
  },
  {
   "cell_type": "code",
   "execution_count": 5,
   "metadata": {},
   "outputs": [],
   "source": [
    "#show(recover_raw)"
   ]
  },
  {
   "cell_type": "markdown",
   "metadata": {},
   "source": [
    "![title](plots/newplot_recover.png)"
   ]
  },
  {
   "cell_type": "code",
   "execution_count": 6,
   "metadata": {},
   "outputs": [
    {
     "data": {
      "text/html": [
       "<div>\n",
       "<style scoped>\n",
       "    .dataframe tbody tr th:only-of-type {\n",
       "        vertical-align: middle;\n",
       "    }\n",
       "\n",
       "    .dataframe tbody tr th {\n",
       "        vertical-align: top;\n",
       "    }\n",
       "\n",
       "    .dataframe thead th {\n",
       "        text-align: right;\n",
       "    }\n",
       "</style>\n",
       "<table border=\"1\" class=\"dataframe\">\n",
       "  <thead>\n",
       "    <tr style=\"text-align: right;\">\n",
       "      <th></th>\n",
       "      <th>Province/State</th>\n",
       "      <th>Country/Region</th>\n",
       "      <th>Lat</th>\n",
       "      <th>Long</th>\n",
       "      <th>1/22/20</th>\n",
       "      <th>1/23/20</th>\n",
       "      <th>1/24/20</th>\n",
       "      <th>1/25/20</th>\n",
       "      <th>1/26/20</th>\n",
       "      <th>1/27/20</th>\n",
       "      <th>...</th>\n",
       "      <th>12/18/20</th>\n",
       "      <th>12/19/20</th>\n",
       "      <th>12/20/20</th>\n",
       "      <th>12/21/20</th>\n",
       "      <th>12/22/20</th>\n",
       "      <th>12/23/20</th>\n",
       "      <th>12/24/20</th>\n",
       "      <th>12/25/20</th>\n",
       "      <th>12/26/20</th>\n",
       "      <th>12/27/20</th>\n",
       "    </tr>\n",
       "  </thead>\n",
       "  <tbody>\n",
       "    <tr>\n",
       "      <th>0</th>\n",
       "      <td>NaN</td>\n",
       "      <td>Afghanistan</td>\n",
       "      <td>33.93911</td>\n",
       "      <td>67.709953</td>\n",
       "      <td>0</td>\n",
       "      <td>0</td>\n",
       "      <td>0</td>\n",
       "      <td>0</td>\n",
       "      <td>0</td>\n",
       "      <td>0</td>\n",
       "      <td>...</td>\n",
       "      <td>49621</td>\n",
       "      <td>49681</td>\n",
       "      <td>49817</td>\n",
       "      <td>50013</td>\n",
       "      <td>50190</td>\n",
       "      <td>50433</td>\n",
       "      <td>50655</td>\n",
       "      <td>50810</td>\n",
       "      <td>50886</td>\n",
       "      <td>51039</td>\n",
       "    </tr>\n",
       "    <tr>\n",
       "      <th>1</th>\n",
       "      <td>NaN</td>\n",
       "      <td>Albania</td>\n",
       "      <td>41.15330</td>\n",
       "      <td>20.168300</td>\n",
       "      <td>0</td>\n",
       "      <td>0</td>\n",
       "      <td>0</td>\n",
       "      <td>0</td>\n",
       "      <td>0</td>\n",
       "      <td>0</td>\n",
       "      <td>...</td>\n",
       "      <td>52004</td>\n",
       "      <td>52542</td>\n",
       "      <td>53003</td>\n",
       "      <td>53425</td>\n",
       "      <td>53814</td>\n",
       "      <td>54317</td>\n",
       "      <td>54827</td>\n",
       "      <td>55380</td>\n",
       "      <td>55755</td>\n",
       "      <td>56254</td>\n",
       "    </tr>\n",
       "    <tr>\n",
       "      <th>2</th>\n",
       "      <td>NaN</td>\n",
       "      <td>Algeria</td>\n",
       "      <td>28.03390</td>\n",
       "      <td>1.659600</td>\n",
       "      <td>0</td>\n",
       "      <td>0</td>\n",
       "      <td>0</td>\n",
       "      <td>0</td>\n",
       "      <td>0</td>\n",
       "      <td>0</td>\n",
       "      <td>...</td>\n",
       "      <td>94371</td>\n",
       "      <td>94781</td>\n",
       "      <td>95203</td>\n",
       "      <td>95659</td>\n",
       "      <td>96069</td>\n",
       "      <td>96549</td>\n",
       "      <td>97007</td>\n",
       "      <td>97441</td>\n",
       "      <td>97857</td>\n",
       "      <td>98249</td>\n",
       "    </tr>\n",
       "    <tr>\n",
       "      <th>3</th>\n",
       "      <td>NaN</td>\n",
       "      <td>Andorra</td>\n",
       "      <td>42.50630</td>\n",
       "      <td>1.521800</td>\n",
       "      <td>0</td>\n",
       "      <td>0</td>\n",
       "      <td>0</td>\n",
       "      <td>0</td>\n",
       "      <td>0</td>\n",
       "      <td>0</td>\n",
       "      <td>...</td>\n",
       "      <td>7519</td>\n",
       "      <td>7560</td>\n",
       "      <td>7577</td>\n",
       "      <td>7602</td>\n",
       "      <td>7633</td>\n",
       "      <td>7669</td>\n",
       "      <td>7699</td>\n",
       "      <td>7756</td>\n",
       "      <td>7806</td>\n",
       "      <td>7821</td>\n",
       "    </tr>\n",
       "    <tr>\n",
       "      <th>4</th>\n",
       "      <td>NaN</td>\n",
       "      <td>Angola</td>\n",
       "      <td>-11.20270</td>\n",
       "      <td>17.873900</td>\n",
       "      <td>0</td>\n",
       "      <td>0</td>\n",
       "      <td>0</td>\n",
       "      <td>0</td>\n",
       "      <td>0</td>\n",
       "      <td>0</td>\n",
       "      <td>...</td>\n",
       "      <td>16562</td>\n",
       "      <td>16626</td>\n",
       "      <td>16644</td>\n",
       "      <td>16686</td>\n",
       "      <td>16802</td>\n",
       "      <td>16931</td>\n",
       "      <td>17029</td>\n",
       "      <td>17099</td>\n",
       "      <td>17149</td>\n",
       "      <td>17240</td>\n",
       "    </tr>\n",
       "  </tbody>\n",
       "</table>\n",
       "<p>5 rows × 345 columns</p>\n",
       "</div>"
      ],
      "text/plain": [
       "  Province/State Country/Region       Lat       Long  1/22/20  1/23/20  \\\n",
       "0            NaN    Afghanistan  33.93911  67.709953        0        0   \n",
       "1            NaN        Albania  41.15330  20.168300        0        0   \n",
       "2            NaN        Algeria  28.03390   1.659600        0        0   \n",
       "3            NaN        Andorra  42.50630   1.521800        0        0   \n",
       "4            NaN         Angola -11.20270  17.873900        0        0   \n",
       "\n",
       "   1/24/20  1/25/20  1/26/20  1/27/20  ...  12/18/20  12/19/20  12/20/20  \\\n",
       "0        0        0        0        0  ...     49621     49681     49817   \n",
       "1        0        0        0        0  ...     52004     52542     53003   \n",
       "2        0        0        0        0  ...     94371     94781     95203   \n",
       "3        0        0        0        0  ...      7519      7560      7577   \n",
       "4        0        0        0        0  ...     16562     16626     16644   \n",
       "\n",
       "   12/21/20  12/22/20  12/23/20  12/24/20  12/25/20  12/26/20  12/27/20  \n",
       "0     50013     50190     50433     50655     50810     50886     51039  \n",
       "1     53425     53814     54317     54827     55380     55755     56254  \n",
       "2     95659     96069     96549     97007     97441     97857     98249  \n",
       "3      7602      7633      7669      7699      7756      7806      7821  \n",
       "4     16686     16802     16931     17029     17099     17149     17240  \n",
       "\n",
       "[5 rows x 345 columns]"
      ]
     },
     "execution_count": 6,
     "metadata": {},
     "output_type": "execute_result"
    }
   ],
   "source": [
    "confirmed_cases_raw.head(5)"
   ]
  },
  {
   "cell_type": "code",
   "execution_count": 7,
   "metadata": {},
   "outputs": [
    {
     "data": {
      "text/plain": [
       "Index(['Province/State', 'Country/Region', 'Lat', 'Long', '1/22/20', '1/23/20',\n",
       "       '1/24/20', '1/25/20', '1/26/20', '1/27/20',\n",
       "       ...\n",
       "       '12/18/20', '12/19/20', '12/20/20', '12/21/20', '12/22/20', '12/23/20',\n",
       "       '12/24/20', '12/25/20', '12/26/20', '12/27/20'],\n",
       "      dtype='object', length=345)"
      ]
     },
     "execution_count": 7,
     "metadata": {},
     "output_type": "execute_result"
    }
   ],
   "source": [
    "confirmed_cases_raw.columns"
   ]
  },
  {
   "cell_type": "markdown",
   "metadata": {},
   "source": [
    "## Cleaning the raw data"
   ]
  },
  {
   "cell_type": "code",
   "execution_count": 8,
   "metadata": {},
   "outputs": [],
   "source": [
    "# using melt and reiterating the dataframe\n",
    "def clean_data(raw):\n",
    "    df_clean = raw.melt(id_vars=['Province/State', 'Country/Region', 'Lat', 'Long'], value_name='Cases',var_name='Date')\n",
    "    df_clean = df_clean.set_index(['Country/Region','Province/State','Date'])\n",
    "    return df_clean\n",
    "\n",
    "confirmed_cases = clean_data(confirmed_cases_raw)\n",
    "death = clean_data(death_raw)\n",
    "recover = clean_data(recover_raw)"
   ]
  },
  {
   "cell_type": "code",
   "execution_count": 9,
   "metadata": {},
   "outputs": [
    {
     "data": {
      "text/html": [
       "<div>\n",
       "<style scoped>\n",
       "    .dataframe tbody tr th:only-of-type {\n",
       "        vertical-align: middle;\n",
       "    }\n",
       "\n",
       "    .dataframe tbody tr th {\n",
       "        vertical-align: top;\n",
       "    }\n",
       "\n",
       "    .dataframe thead th {\n",
       "        text-align: right;\n",
       "    }\n",
       "</style>\n",
       "<table border=\"1\" class=\"dataframe\">\n",
       "  <thead>\n",
       "    <tr style=\"text-align: right;\">\n",
       "      <th></th>\n",
       "      <th></th>\n",
       "      <th></th>\n",
       "      <th>Lat</th>\n",
       "      <th>Long</th>\n",
       "      <th>Cases</th>\n",
       "    </tr>\n",
       "    <tr>\n",
       "      <th>Country/Region</th>\n",
       "      <th>Province/State</th>\n",
       "      <th>Date</th>\n",
       "      <th></th>\n",
       "      <th></th>\n",
       "      <th></th>\n",
       "    </tr>\n",
       "  </thead>\n",
       "  <tbody>\n",
       "    <tr>\n",
       "      <th>Afghanistan</th>\n",
       "      <th>NaN</th>\n",
       "      <th>1/22/20</th>\n",
       "      <td>33.93911</td>\n",
       "      <td>67.709953</td>\n",
       "      <td>0</td>\n",
       "    </tr>\n",
       "    <tr>\n",
       "      <th>Albania</th>\n",
       "      <th>NaN</th>\n",
       "      <th>1/22/20</th>\n",
       "      <td>41.15330</td>\n",
       "      <td>20.168300</td>\n",
       "      <td>0</td>\n",
       "    </tr>\n",
       "    <tr>\n",
       "      <th>Algeria</th>\n",
       "      <th>NaN</th>\n",
       "      <th>1/22/20</th>\n",
       "      <td>28.03390</td>\n",
       "      <td>1.659600</td>\n",
       "      <td>0</td>\n",
       "    </tr>\n",
       "    <tr>\n",
       "      <th>Andorra</th>\n",
       "      <th>NaN</th>\n",
       "      <th>1/22/20</th>\n",
       "      <td>42.50630</td>\n",
       "      <td>1.521800</td>\n",
       "      <td>0</td>\n",
       "    </tr>\n",
       "    <tr>\n",
       "      <th>Angola</th>\n",
       "      <th>NaN</th>\n",
       "      <th>1/22/20</th>\n",
       "      <td>-11.20270</td>\n",
       "      <td>17.873900</td>\n",
       "      <td>0</td>\n",
       "    </tr>\n",
       "  </tbody>\n",
       "</table>\n",
       "</div>"
      ],
      "text/plain": [
       "                                            Lat       Long  Cases\n",
       "Country/Region Province/State Date                               \n",
       "Afghanistan    NaN            1/22/20  33.93911  67.709953      0\n",
       "Albania        NaN            1/22/20  41.15330  20.168300      0\n",
       "Algeria        NaN            1/22/20  28.03390   1.659600      0\n",
       "Andorra        NaN            1/22/20  42.50630   1.521800      0\n",
       "Angola         NaN            1/22/20 -11.20270  17.873900      0"
      ]
     },
     "execution_count": 9,
     "metadata": {},
     "output_type": "execute_result"
    }
   ],
   "source": [
    "confirmed_cases.head(5)"
   ]
  },
  {
   "cell_type": "markdown",
   "metadata": {},
   "source": [
    "## Will be only looking at country level and not province or state level"
   ]
  },
  {
   "cell_type": "code",
   "execution_count": 10,
   "metadata": {},
   "outputs": [],
   "source": [
    "## Get Countrywise Data\n",
    "def countrydata(df_clean,oldname,newname):\n",
    "    df_country=df_clean.groupby(['Country/Region','Date'])['Cases'].sum().reset_index()\n",
    "    df_country=df_country.set_index(['Country/Region','Date'])\n",
    "    df_country.index=df_country.index.set_levels([df_country.index.levels[0], pd.to_datetime(df_country.index.levels[1])])\n",
    "    df_country=df_country.sort_values(['Country/Region','Date'],ascending=True)\n",
    "    df_country=df_country.rename(columns={oldname:newname})\n",
    "    return df_country\n",
    "\n",
    "new_confirmed_cases_country = countrydata(confirmed_cases, 'Cases','Total Confirmed Cases')\n",
    "new_death_country = countrydata(death, 'Cases','Total Deaths')\n",
    "new_recover_country = countrydata(recover, 'Cases','Total Recoveries')\n",
    "#new_confirmed_cases_country.head(5)"
   ]
  },
  {
   "cell_type": "code",
   "execution_count": 11,
   "metadata": {},
   "outputs": [],
   "source": [
    "## Get DailyData from Cumulative sum\n",
    "def dailydata(dfcountry,oldname,newname):\n",
    "    dfcountrydaily=dfcountry.groupby(level=0).diff().fillna(0)\n",
    "    dfcountrydaily=dfcountrydaily.rename(columns={oldname:newname})\n",
    "    return dfcountrydaily\n",
    "\n",
    "\n",
    "new_CasesCountry=dailydata(new_confirmed_cases_country,'Total Confirmed Cases','Daily New Cases')\n",
    "new_DeathsCountry=dailydata(new_death_country,'Total Deaths','Daily New Deaths')\n",
    "new_RecoveriesCountry=dailydata(new_recover_country,'Total Recoveries','Daily New Recoveries')\n",
    "#new_CasesCountry.head(5)"
   ]
  },
  {
   "cell_type": "code",
   "execution_count": 12,
   "metadata": {},
   "outputs": [],
   "source": [
    "Country_Consolidated=pd.merge(new_confirmed_cases_country,new_CasesCountry,how='left',left_index=True,right_index=True)\n",
    "Country_Consolidated=pd.merge(Country_Consolidated,new_DeathsCountry,how='left',left_index=True,right_index=True)\n",
    "Country_Consolidated=pd.merge(Country_Consolidated,new_death_country,how='left',left_index=True,right_index=True)\n",
    "Country_Consolidated=pd.merge(Country_Consolidated,new_recover_country,how='left',left_index=True,right_index=True)\n",
    "Country_Consolidated=pd.merge(Country_Consolidated,new_RecoveriesCountry,how='left',left_index=True,right_index=True)\n",
    "Country_Consolidated['Active Cases']=Country_Consolidated['Total Confirmed Cases']-Country_Consolidated['Total Deaths']-Country_Consolidated['Total Recoveries']\n",
    "Country_Consolidated['Share of Recoveries - Closed Cases']=np.round(Country_Consolidated['Total Recoveries']/(Country_Consolidated['Total Recoveries']+Country_Consolidated['Total Deaths']),2)\n",
    "Country_Consolidated['Death to Cases Ratio']=np.round(Country_Consolidated['Total Deaths']/Country_Consolidated['Total Confirmed Cases'],3)"
   ]
  },
  {
   "cell_type": "code",
   "execution_count": 13,
   "metadata": {},
   "outputs": [
    {
     "data": {
      "text/html": [
       "<div>\n",
       "<style scoped>\n",
       "    .dataframe tbody tr th:only-of-type {\n",
       "        vertical-align: middle;\n",
       "    }\n",
       "\n",
       "    .dataframe tbody tr th {\n",
       "        vertical-align: top;\n",
       "    }\n",
       "\n",
       "    .dataframe thead th {\n",
       "        text-align: right;\n",
       "    }\n",
       "</style>\n",
       "<table border=\"1\" class=\"dataframe\">\n",
       "  <thead>\n",
       "    <tr style=\"text-align: right;\">\n",
       "      <th></th>\n",
       "      <th>Total Confirmed Cases</th>\n",
       "      <th>Daily New Cases</th>\n",
       "      <th>Daily New Deaths</th>\n",
       "      <th>Total Deaths</th>\n",
       "      <th>Total Recoveries</th>\n",
       "      <th>Daily New Recoveries</th>\n",
       "      <th>Active Cases</th>\n",
       "      <th>Share of Recoveries - Closed Cases</th>\n",
       "      <th>Death to Cases Ratio</th>\n",
       "    </tr>\n",
       "    <tr>\n",
       "      <th>Date</th>\n",
       "      <th></th>\n",
       "      <th></th>\n",
       "      <th></th>\n",
       "      <th></th>\n",
       "      <th></th>\n",
       "      <th></th>\n",
       "      <th></th>\n",
       "      <th></th>\n",
       "      <th></th>\n",
       "    </tr>\n",
       "  </thead>\n",
       "  <tbody>\n",
       "    <tr>\n",
       "      <th>2020-12-26</th>\n",
       "      <td>80351598</td>\n",
       "      <td>511392.0</td>\n",
       "      <td>7077.0</td>\n",
       "      <td>1757657</td>\n",
       "      <td>45410291</td>\n",
       "      <td>407732.0</td>\n",
       "      <td>33183650</td>\n",
       "      <td>0.96</td>\n",
       "      <td>0.022</td>\n",
       "    </tr>\n",
       "    <tr>\n",
       "      <th>2020-12-27</th>\n",
       "      <td>80783674</td>\n",
       "      <td>432076.0</td>\n",
       "      <td>7206.0</td>\n",
       "      <td>1764863</td>\n",
       "      <td>45698074</td>\n",
       "      <td>287783.0</td>\n",
       "      <td>33320737</td>\n",
       "      <td>0.96</td>\n",
       "      <td>0.022</td>\n",
       "    </tr>\n",
       "  </tbody>\n",
       "</table>\n",
       "</div>"
      ],
      "text/plain": [
       "            Total Confirmed Cases  Daily New Cases  Daily New Deaths  \\\n",
       "Date                                                                   \n",
       "2020-12-26               80351598         511392.0            7077.0   \n",
       "2020-12-27               80783674         432076.0            7206.0   \n",
       "\n",
       "            Total Deaths  Total Recoveries  Daily New Recoveries  \\\n",
       "Date                                                               \n",
       "2020-12-26       1757657          45410291              407732.0   \n",
       "2020-12-27       1764863          45698074              287783.0   \n",
       "\n",
       "            Active Cases  Share of Recoveries - Closed Cases  \\\n",
       "Date                                                           \n",
       "2020-12-26      33183650                                0.96   \n",
       "2020-12-27      33320737                                0.96   \n",
       "\n",
       "            Death to Cases Ratio  \n",
       "Date                              \n",
       "2020-12-26                 0.022  \n",
       "2020-12-27                 0.022  "
      ]
     },
     "execution_count": 13,
     "metadata": {},
     "output_type": "execute_result"
    }
   ],
   "source": [
    "GlobalTotals=Country_Consolidated.reset_index().groupby('Date').sum()\n",
    "GlobalTotals['Share of Recoveries - Closed Cases']=np.round(GlobalTotals['Total Recoveries']/(GlobalTotals['Total Recoveries']+GlobalTotals['Total Deaths']),2)\n",
    "GlobalTotals['Death to Cases Ratio']=np.round(GlobalTotals['Total Deaths']/GlobalTotals['Total Confirmed Cases'],3)\n",
    "GlobalTotals.tail(2)"
   ]
  },
  {
   "cell_type": "code",
   "execution_count": 14,
   "metadata": {},
   "outputs": [
    {
     "data": {
      "text/plain": [
       "Total Confirmed Cases                 8.078367e+07\n",
       "Daily New Cases                       4.320760e+05\n",
       "Daily New Deaths                      7.206000e+03\n",
       "Total Deaths                          1.764863e+06\n",
       "Total Recoveries                      4.569807e+07\n",
       "Daily New Recoveries                  2.877830e+05\n",
       "Active Cases                          3.332074e+07\n",
       "Share of Recoveries - Closed Cases    9.600000e-01\n",
       "Death to Cases Ratio                  2.200000e-02\n",
       "Name: 2020-12-27 00:00:00, dtype: float64"
      ]
     },
     "execution_count": 14,
     "metadata": {},
     "output_type": "execute_result"
    }
   ],
   "source": [
    "GlobalTotals.iloc[-1]"
   ]
  },
  {
   "cell_type": "code",
   "execution_count": null,
   "metadata": {},
   "outputs": [],
   "source": []
  }
 ],
 "metadata": {
  "kernelspec": {
   "display_name": "Python 3",
   "language": "python",
   "name": "python3"
  },
  "language_info": {
   "codemirror_mode": {
    "name": "ipython",
    "version": 3
   },
   "file_extension": ".py",
   "mimetype": "text/x-python",
   "name": "python",
   "nbconvert_exporter": "python",
   "pygments_lexer": "ipython3",
   "version": "3.8.7"
  }
 },
 "nbformat": 4,
 "nbformat_minor": 4
}
